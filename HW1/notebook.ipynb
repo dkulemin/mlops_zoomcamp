{
 "cells": [
  {
   "cell_type": "code",
   "execution_count": 24,
   "metadata": {},
   "outputs": [],
   "source": [
    "import os\n",
    "\n",
    "from pyspark.ml import Pipeline, Transformer\n",
    "from pyspark.ml.evaluation import RegressionEvaluator\n",
    "from pyspark.ml.feature import OneHotEncoder, VectorAssembler\n",
    "from pyspark.ml.regression import LinearRegression\n",
    "from pyspark.sql import functions as F\n",
    "from pyspark.sql import SparkSession\n",
    "from pyspark.sql.dataframe import DataFrame"
   ]
  },
  {
   "cell_type": "code",
   "execution_count": 2,
   "metadata": {},
   "outputs": [],
   "source": [
    "os.environ[\"SPARK_LOCAL_IP\"] = \"127.0.0.1\""
   ]
  },
  {
   "cell_type": "code",
   "execution_count": 3,
   "metadata": {},
   "outputs": [
    {
     "name": "stderr",
     "output_type": "stream",
     "text": [
      "Setting default log level to \"WARN\".\n",
      "To adjust logging level use sc.setLogLevel(newLevel). For SparkR, use setLogLevel(newLevel).\n",
      "24/06/06 19:24:39 WARN NativeCodeLoader: Unable to load native-hadoop library for your platform... using builtin-java classes where applicable\n"
     ]
    }
   ],
   "source": [
    "spark = (\n",
    "    SparkSession\n",
    "    .builder\n",
    "    .appName('Yello Taxi')\n",
    "    .master('local[*]')\n",
    "    .getOrCreate()\n",
    ")"
   ]
  },
  {
   "cell_type": "code",
   "execution_count": 4,
   "metadata": {},
   "outputs": [
    {
     "data": {
      "text/html": [
       "\n",
       "            <div>\n",
       "                <p><b>SparkSession - in-memory</b></p>\n",
       "                \n",
       "        <div>\n",
       "            <p><b>SparkContext</b></p>\n",
       "\n",
       "            <p><a href=\"http://localhost:4040\">Spark UI</a></p>\n",
       "\n",
       "            <dl>\n",
       "              <dt>Version</dt>\n",
       "                <dd><code>v3.5.1</code></dd>\n",
       "              <dt>Master</dt>\n",
       "                <dd><code>local[*]</code></dd>\n",
       "              <dt>AppName</dt>\n",
       "                <dd><code>Yello Taxi</code></dd>\n",
       "            </dl>\n",
       "        </div>\n",
       "        \n",
       "            </div>\n",
       "        "
      ],
      "text/plain": [
       "<pyspark.sql.session.SparkSession at 0x11192c8d0>"
      ]
     },
     "execution_count": 4,
     "metadata": {},
     "output_type": "execute_result"
    }
   ],
   "source": [
    "spark"
   ]
  },
  {
   "cell_type": "markdown",
   "metadata": {},
   "source": [
    "## Q1. Read the data for January. How many columns are there?"
   ]
  },
  {
   "cell_type": "code",
   "execution_count": 5,
   "metadata": {},
   "outputs": [
    {
     "name": "stderr",
     "output_type": "stream",
     "text": [
      "                                                                                \r"
     ]
    }
   ],
   "source": [
    "df = spark.read.parquet('data/yellow_tripdata_2023-01.parquet')"
   ]
  },
  {
   "cell_type": "code",
   "execution_count": 6,
   "metadata": {},
   "outputs": [
    {
     "data": {
      "text/plain": [
       "19"
      ]
     },
     "execution_count": 6,
     "metadata": {},
     "output_type": "execute_result"
    }
   ],
   "source": [
    "len(df.columns)"
   ]
  },
  {
   "cell_type": "markdown",
   "metadata": {},
   "source": [
    "## Answer: 19"
   ]
  },
  {
   "cell_type": "markdown",
   "metadata": {},
   "source": [
    "## Q2. What's the standard deviation of the trips duration in January?"
   ]
  },
  {
   "cell_type": "code",
   "execution_count": 7,
   "metadata": {},
   "outputs": [
    {
     "name": "stdout",
     "output_type": "stream",
     "text": [
      "root\n",
      " |-- VendorID: long (nullable = true)\n",
      " |-- tpep_pickup_datetime: timestamp_ntz (nullable = true)\n",
      " |-- tpep_dropoff_datetime: timestamp_ntz (nullable = true)\n",
      " |-- passenger_count: double (nullable = true)\n",
      " |-- trip_distance: double (nullable = true)\n",
      " |-- RatecodeID: double (nullable = true)\n",
      " |-- store_and_fwd_flag: string (nullable = true)\n",
      " |-- PULocationID: long (nullable = true)\n",
      " |-- DOLocationID: long (nullable = true)\n",
      " |-- payment_type: long (nullable = true)\n",
      " |-- fare_amount: double (nullable = true)\n",
      " |-- extra: double (nullable = true)\n",
      " |-- mta_tax: double (nullable = true)\n",
      " |-- tip_amount: double (nullable = true)\n",
      " |-- tolls_amount: double (nullable = true)\n",
      " |-- improvement_surcharge: double (nullable = true)\n",
      " |-- total_amount: double (nullable = true)\n",
      " |-- congestion_surcharge: double (nullable = true)\n",
      " |-- airport_fee: double (nullable = true)\n",
      "\n"
     ]
    }
   ],
   "source": [
    "df.printSchema()"
   ]
  },
  {
   "cell_type": "code",
   "execution_count": 8,
   "metadata": {},
   "outputs": [
    {
     "name": "stdout",
     "output_type": "stream",
     "text": [
      "+--------------------+---------------------+\n",
      "|tpep_pickup_datetime|tpep_dropoff_datetime|\n",
      "+--------------------+---------------------+\n",
      "| 2023-01-01 00:32:10|  2023-01-01 00:40:36|\n",
      "| 2023-01-01 00:55:08|  2023-01-01 01:01:27|\n",
      "| 2023-01-01 00:25:04|  2023-01-01 00:37:49|\n",
      "| 2023-01-01 00:03:48|  2023-01-01 00:13:25|\n",
      "| 2023-01-01 00:10:29|  2023-01-01 00:21:19|\n",
      "| 2023-01-01 00:50:34|  2023-01-01 01:02:52|\n",
      "| 2023-01-01 00:09:22|  2023-01-01 00:19:49|\n",
      "| 2023-01-01 00:27:12|  2023-01-01 00:49:56|\n",
      "| 2023-01-01 00:21:44|  2023-01-01 00:36:40|\n",
      "| 2023-01-01 00:39:42|  2023-01-01 00:50:36|\n",
      "| 2023-01-01 00:53:01|  2023-01-01 01:01:45|\n",
      "| 2023-01-01 00:43:37|  2023-01-01 01:17:18|\n",
      "| 2023-01-01 00:34:44|  2023-01-01 01:04:25|\n",
      "| 2023-01-01 00:09:29|  2023-01-01 00:29:23|\n",
      "| 2023-01-01 00:33:53|  2023-01-01 00:49:15|\n",
      "| 2023-01-01 00:13:04|  2023-01-01 00:22:10|\n",
      "| 2023-01-01 00:45:11|  2023-01-01 01:07:39|\n",
      "| 2023-01-01 00:04:33|  2023-01-01 00:19:22|\n",
      "| 2023-01-01 00:03:36|  2023-01-01 00:09:36|\n",
      "| 2023-01-01 00:15:23|  2023-01-01 00:29:41|\n",
      "+--------------------+---------------------+\n",
      "only showing top 20 rows\n",
      "\n"
     ]
    }
   ],
   "source": [
    "df.select('tpep_pickup_datetime', 'tpep_dropoff_datetime').show()"
   ]
  },
  {
   "cell_type": "code",
   "execution_count": 9,
   "metadata": {},
   "outputs": [],
   "source": [
    "df_with_duration = df.select(\n",
    "    *df.columns,\n",
    "    ((\n",
    "        F.col('tpep_dropoff_datetime') - F.col('tpep_pickup_datetime')\n",
    "    ).cast('long') / 60).alias('duration')\n",
    ")"
   ]
  },
  {
   "cell_type": "code",
   "execution_count": 10,
   "metadata": {},
   "outputs": [
    {
     "name": "stderr",
     "output_type": "stream",
     "text": [
      "[Stage 3:===================================================>       (7 + 1) / 8]\r"
     ]
    },
    {
     "name": "stdout",
     "output_type": "stream",
     "text": [
      "+------------------+\n",
      "|  stddev(duration)|\n",
      "+------------------+\n",
      "|42.594351241955756|\n",
      "+------------------+\n",
      "\n"
     ]
    },
    {
     "name": "stderr",
     "output_type": "stream",
     "text": [
      "                                                                                \r"
     ]
    }
   ],
   "source": [
    "df_with_duration.select(F.stddev('duration')).show()"
   ]
  },
  {
   "cell_type": "markdown",
   "metadata": {},
   "source": [
    "## Answer: 42.59"
   ]
  },
  {
   "cell_type": "markdown",
   "metadata": {},
   "source": [
    "## Q3. Dropping outliers (keep only the records where the duration was between 1 and 60 minutes (inclusive))"
   ]
  },
  {
   "cell_type": "markdown",
   "metadata": {},
   "source": [
    "## What fraction of the records left after you dropped the outliers?"
   ]
  },
  {
   "cell_type": "code",
   "execution_count": 11,
   "metadata": {},
   "outputs": [
    {
     "name": "stderr",
     "output_type": "stream",
     "text": [
      "                                                                                \r"
     ]
    },
    {
     "data": {
      "text/plain": [
       "98.11286547457485"
      ]
     },
     "execution_count": 11,
     "metadata": {},
     "output_type": "execute_result"
    }
   ],
   "source": [
    "df_with_duration.filter((F.col('duration') > 1) & (F.col('duration') <= 60)).count() / df_with_duration.count() * 100"
   ]
  },
  {
   "cell_type": "markdown",
   "metadata": {},
   "source": [
    "## ANSWER: 98%"
   ]
  },
  {
   "cell_type": "markdown",
   "metadata": {},
   "source": [
    "## Q4. One-hot encoding"
   ]
  },
  {
   "cell_type": "code",
   "execution_count": 12,
   "metadata": {},
   "outputs": [],
   "source": [
    "class DataPrep(Transformer):\n",
    "    def __init__(self) -> None:\n",
    "        super().__init__()\n",
    "\n",
    "    def _transform(self, dataset: DataFrame) -> DataFrame:\n",
    "        return (\n",
    "            dataset\n",
    "            .select(\n",
    "                *dataset.columns,\n",
    "                (\n",
    "                    (\n",
    "                        F.col('tpep_dropoff_datetime') - F.col('tpep_pickup_datetime')\n",
    "                    )\n",
    "                    .cast('long') / 60\n",
    "                )\n",
    "                .alias('duration')\n",
    "            )\n",
    "            .filter((F.col('duration') > 1) & (F.col('duration') <= 60))\n",
    "        )"
   ]
  },
  {
   "cell_type": "code",
   "execution_count": 13,
   "metadata": {},
   "outputs": [],
   "source": [
    "data_prep = DataPrep()\n",
    "ohe = OneHotEncoder(inputCols=[\"PULocationID\", \"DOLocationID\"], outputCols=[\"PU_OHE\", \"DO_OHE\"])\n",
    "assembler = VectorAssembler(inputCols=[\"PU_OHE\", \"DO_OHE\"], outputCol=\"features\")\n",
    "data_prep_pipeline = Pipeline(stages=[data_prep, ohe, assembler])"
   ]
  },
  {
   "cell_type": "code",
   "execution_count": 14,
   "metadata": {},
   "outputs": [
    {
     "name": "stderr",
     "output_type": "stream",
     "text": [
      "                                                                                \r"
     ]
    }
   ],
   "source": [
    "data_prep_model = data_prep_pipeline.fit(df)"
   ]
  },
  {
   "cell_type": "code",
   "execution_count": 15,
   "metadata": {},
   "outputs": [],
   "source": [
    "train_df = data_prep_model.transform(df)"
   ]
  },
  {
   "cell_type": "code",
   "execution_count": 16,
   "metadata": {},
   "outputs": [
    {
     "name": "stdout",
     "output_type": "stream",
     "text": [
      "+-------------------------+------------------+\n",
      "|features                 |duration          |\n",
      "+-------------------------+------------------+\n",
      "|(530,[161,406],[1.0,1.0])|8.433333333333334 |\n",
      "|(530,[43,502],[1.0,1.0]) |6.316666666666666 |\n",
      "|(530,[48,503],[1.0,1.0]) |12.75             |\n",
      "|(530,[138,272],[1.0,1.0])|9.616666666666667 |\n",
      "|(530,[107,344],[1.0,1.0])|10.833333333333334|\n",
      "|(530,[161,402],[1.0,1.0])|12.3              |\n",
      "|(530,[239,408],[1.0,1.0])|10.45             |\n",
      "|(530,[142,465],[1.0,1.0])|22.733333333333334|\n",
      "|(530,[164,501],[1.0,1.0])|14.933333333333334|\n",
      "|(530,[141,372],[1.0,1.0])|10.9              |\n",
      "|(530,[234,333],[1.0,1.0])|8.733333333333333 |\n",
      "|(530,[79,529],[1.0,1.0]) |33.68333333333333 |\n",
      "|(530,[164,408],[1.0,1.0])|29.683333333333334|\n",
      "|(530,[138,298],[1.0,1.0])|19.9              |\n",
      "|(530,[33,326],[1.0,1.0]) |15.366666666666667|\n",
      "|(530,[79,451],[1.0,1.0]) |9.1               |\n",
      "|(530,[90,313],[1.0,1.0]) |22.466666666666665|\n",
      "|(530,[113,520],[1.0,1.0])|14.816666666666666|\n",
      "|(530,[237,504],[1.0,1.0])|6.0               |\n",
      "|(530,[143,494],[1.0,1.0])|14.3              |\n",
      "+-------------------------+------------------+\n",
      "only showing top 20 rows\n",
      "\n"
     ]
    }
   ],
   "source": [
    "train_df.select(\"features\", \"duration\").show(truncate=False)"
   ]
  },
  {
   "cell_type": "markdown",
   "metadata": {},
   "source": [
    "## ANSWER: 530 (close to 515)"
   ]
  },
  {
   "cell_type": "markdown",
   "metadata": {},
   "source": [
    "## Q5. Training a model"
   ]
  },
  {
   "cell_type": "code",
   "execution_count": 17,
   "metadata": {},
   "outputs": [],
   "source": [
    "lr = LinearRegression(featuresCol=\"features\", labelCol=\"duration\")\n",
    "evaluator = RegressionEvaluator(predictionCol=\"prediction\", labelCol=\"duration\", metricName=\"rmse\")\n",
    "train_pipeline = Pipeline(stages=[data_prep_pipeline, lr])"
   ]
  },
  {
   "cell_type": "code",
   "execution_count": 26,
   "metadata": {},
   "outputs": [
    {
     "name": "stderr",
     "output_type": "stream",
     "text": [
      "24/06/06 19:27:53 WARN Instrumentation: [4b2fb51f] regParam is zero, which might cause numerical instability and overfitting.\n",
      "24/06/06 19:28:01 WARN InstanceBuilder: Failed to load implementation from:dev.ludovic.netlib.blas.JNIBLAS\n",
      "24/06/06 19:28:01 WARN InstanceBuilder: Failed to load implementation from:dev.ludovic.netlib.lapack.JNILAPACK\n",
      "24/06/06 19:28:01 WARN Instrumentation: [4b2fb51f] Cholesky solver failed due to singular covariance matrix. Retrying with Quasi-Newton solver.\n",
      "                                                                                \r"
     ]
    }
   ],
   "source": [
    "lr_model = train_pipeline.fit(df)"
   ]
  },
  {
   "cell_type": "code",
   "execution_count": 27,
   "metadata": {},
   "outputs": [
    {
     "name": "stderr",
     "output_type": "stream",
     "text": [
      "                                                                                \r"
     ]
    },
    {
     "data": {
      "text/plain": [
       "7.64823034523142"
      ]
     },
     "execution_count": 27,
     "metadata": {},
     "output_type": "execute_result"
    }
   ],
   "source": [
    "evaluator.evaluate(lr_model.transform(df))"
   ]
  },
  {
   "cell_type": "markdown",
   "metadata": {},
   "source": [
    "## ANSWER: 7.64"
   ]
  },
  {
   "cell_type": "markdown",
   "metadata": {},
   "source": [
    "## Q6. Evaluating the model"
   ]
  },
  {
   "cell_type": "code",
   "execution_count": 29,
   "metadata": {},
   "outputs": [],
   "source": [
    "test_df = spark.read.parquet('data/yellow_tripdata_2023-02.parquet')"
   ]
  },
  {
   "cell_type": "code",
   "execution_count": 30,
   "metadata": {},
   "outputs": [
    {
     "name": "stderr",
     "output_type": "stream",
     "text": [
      "                                                                                \r"
     ]
    },
    {
     "data": {
      "text/plain": [
       "7.810105882139033"
      ]
     },
     "execution_count": 30,
     "metadata": {},
     "output_type": "execute_result"
    }
   ],
   "source": [
    "evaluator.evaluate(lr_model.transform(test_df))"
   ]
  },
  {
   "cell_type": "markdown",
   "metadata": {},
   "source": [
    "## ANSWER: 7.81"
   ]
  },
  {
   "cell_type": "code",
   "execution_count": 31,
   "metadata": {},
   "outputs": [],
   "source": [
    "spark.stop()"
   ]
  }
 ],
 "metadata": {
  "kernelspec": {
   "display_name": ".venv",
   "language": "python",
   "name": "python3"
  },
  "language_info": {
   "codemirror_mode": {
    "name": "ipython",
    "version": 3
   },
   "file_extension": ".py",
   "mimetype": "text/x-python",
   "name": "python",
   "nbconvert_exporter": "python",
   "pygments_lexer": "ipython3",
   "version": "3.11.1"
  }
 },
 "nbformat": 4,
 "nbformat_minor": 2
}
